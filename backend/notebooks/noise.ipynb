{
 "cells": [
  {
   "cell_type": "code",
   "execution_count": null,
   "metadata": {},
   "outputs": [],
   "source": [
    "import numpy as np\n",
    "from noise import pnoise2\n",
    "\n",
    "def perlin_array(\n",
    "    shape = (200, 200),\n",
    "    scale=100, \n",
    "    octaves = 6, \n",
    "    persistence = 0.5, \n",
    "    lacunarity = 2.0, \n",
    "    seed = None\n",
    "):\n",
    "\n",
    "    if not seed:\n",
    "\n",
    "        seed = np.random.randint(0, 100)\n",
    "        print(\"seed was {}\".format(seed))\n",
    "\n",
    "    arr = np.zeros(shape)\n",
    "    for i in range(shape[0]):\n",
    "        for j in range(shape[1]):\n",
    "            arr[i][j] = pnoise2(i / scale,\n",
    "                                        j / scale,\n",
    "                                        octaves=octaves,\n",
    "                                        persistence=persistence,\n",
    "                                        lacunarity=lacunarity,\n",
    "                                        repeatx=1024,\n",
    "                                        repeaty=1024,\n",
    "                                        base=seed)\n",
    "    max_arr = np.max(arr)\n",
    "    min_arr = np.min(arr)\n",
    "    norm_me = lambda x: (x-min_arr)/(max_arr - min_arr)\n",
    "    norm_me = np.vectorize(norm_me)\n",
    "    arr = norm_me(arr)\n",
    "    return arr"
   ]
  },
  {
   "cell_type": "code",
   "execution_count": null,
   "metadata": {
    "scrolled": true
   },
   "outputs": [],
   "source": [
    "perlin_array(seed=3, scale=1000)"
   ]
  }
 ],
 "metadata": {
  "kernelspec": {
   "display_name": "Django Shell-Plus",
   "language": "python",
   "name": "django_extensions"
  },
  "language_info": {
   "codemirror_mode": {
    "name": "ipython",
    "version": 3
   },
   "file_extension": ".py",
   "mimetype": "text/x-python",
   "name": "python",
   "nbconvert_exporter": "python",
   "pygments_lexer": "ipython3",
   "version": "3.7.6"
  }
 },
 "nbformat": 4,
 "nbformat_minor": 4
}

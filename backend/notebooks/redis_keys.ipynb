{
 "cells": [
  {
   "cell_type": "code",
   "execution_count": null,
   "metadata": {},
   "outputs": [],
   "source": [
    "import json\n",
    "from apps.emojirama.models import Emojirama\n",
    "from django.conf import settings\n",
    "\n",
    "r = settings.REDIS\n",
    "r.flushall()"
   ]
  },
  {
   "cell_type": "code",
   "execution_count": null,
   "metadata": {},
   "outputs": [],
   "source": [
    "def write_keys_for_emojirama(emojirama):\n",
    "    scene_list = e.board[\"scenes\"].keys()\n",
    "    p = r.pipeline()\n",
    "    for scene in scene_list:\n",
    "        for i, row in enumerate(e.board[\"scenes\"][scene][\"data\"]):\n",
    "            for j, square in enumerate(row):\n",
    "                p.hset(f\"{emojirama.id}___{scene}___{j}___{i}___square\", 'emoji', square['emoji'])\n",
    "                p.hset(f\"{emojirama.id}___{scene}___{j}___{i}___square\", 'color', square['color'])\n",
    "                p.hset(f\"{emojirama.id}___{scene}___{j}___{i}___square\", 'tone', square['tone'])\n",
    "                p.hset(f\"{emojirama.id}___{scene}___{j}___{i}___square\", 'position', str(square['position']))\n",
    "    return p.execute()"
   ]
  },
  {
   "cell_type": "code",
   "execution_count": null,
   "metadata": {},
   "outputs": [],
   "source": [
    "e = Emojirama.objects.all().first()\n",
    "scene_list = e.board[\"scenes\"].keys()\n",
    "pipeline_results = write_keys_for_emojirama(e)"
   ]
  },
  {
   "cell_type": "code",
   "execution_count": null,
   "metadata": {},
   "outputs": [],
   "source": [
    "len(pipeline_results)"
   ]
  },
  {
   "cell_type": "code",
   "execution_count": null,
   "metadata": {},
   "outputs": [],
   "source": [
    "def get_json_from_server_for_emojirama(emojirama):\n",
    "    emojirama_id = emojirama.id\n",
    "    \n",
    "    # to round trips to redis\n",
    "    keys = r.keys(f'{emojirama_id}___*___*___*___square')\n",
    "    p = r.pipeline()\n",
    "    for key in keys:\n",
    "        p.hgetall(key)\n",
    "    hashes = p.execute()\n",
    "    key_hash_dict = {key: _hash for key, _hash in zip(keys,hashes)}\n",
    "    \n",
    "    \n",
    "    scene_list = emojirama.board[\"scenes\"].keys()\n",
    "    json_data = {\"scenes\":{scene: {} for scene in scene_list}}\n",
    "    for scene in scene_list:\n",
    "        row_num = 0\n",
    "        col_num = 0\n",
    "        rows = []\n",
    "\n",
    "        while True:\n",
    "            row = []\n",
    "            col_num = 0\n",
    "            try:\n",
    "                _ = key_hash_dict[f\"{emojirama_id}___{scene}___{row_num}___{col_num}___square\"]\n",
    "            except KeyError:\n",
    "                break\n",
    "            while True:\n",
    "                try:\n",
    "                    h = key_hash_dict[f\"{emojirama_id}___{scene}___{row_num}___{col_num}___square\"]\n",
    "                    h[\"tone\"] = int(h[\"tone\"])\n",
    "                    h[\"position\"] = json.loads(h[\"position\"])\n",
    "                    row.append(h)\n",
    "                except KeyError:\n",
    "                    break\n",
    "                col_num += 1\n",
    "                \n",
    "            rows.append(row)\n",
    "            \n",
    "            row_num += 1\n",
    "            \n",
    "        json_data[\"scenes\"][scene][\"data\"] = rows\n",
    "                \n",
    "            \n",
    "    return json_data\n"
   ]
  },
  {
   "cell_type": "code",
   "execution_count": null,
   "metadata": {},
   "outputs": [],
   "source": [
    "a = get_json_from_server_for_emojirama(e)"
   ]
  },
  {
   "cell_type": "code",
   "execution_count": null,
   "metadata": {},
   "outputs": [],
   "source": [
    "a"
   ]
  },
  {
   "cell_type": "code",
   "execution_count": null,
   "metadata": {},
   "outputs": [],
   "source": []
  }
 ],
 "metadata": {
  "kernelspec": {
   "display_name": "Django Shell-Plus",
   "language": "python",
   "name": "django_extensions"
  },
  "language_info": {
   "codemirror_mode": {
    "name": "ipython",
    "version": 3
   },
   "file_extension": ".py",
   "mimetype": "text/x-python",
   "name": "python",
   "nbconvert_exporter": "python",
   "pygments_lexer": "ipython3",
   "version": "3.7.6"
  }
 },
 "nbformat": 4,
 "nbformat_minor": 2
}
